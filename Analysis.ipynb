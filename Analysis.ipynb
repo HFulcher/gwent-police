{
 "cells": [
  {
   "cell_type": "markdown",
   "metadata": {},
   "source": [
    "# Analysis of Gwent Police data 2010 - 2016\n",
    "## Table of Contents\n",
    "\n",
    "1. Introduction\n",
    "2. Cleaning the data\n",
    "3. Exploring the data\n",
    "4. Building a model\n",
    "5. Conclusion\n",
    "\n",
    "## Introduction\n",
    "The [UK Police](police.uk) have made [publically accessible data](https://data.police.uk) relating to crime in England, Wales and Northern Ireland in the form of street-level crime and outcome records for each month. The specific data I will be working with is all data collected on the Gwent Police force between 2010 and 2016 (2010 is the oldest data available openly), the reason for chosing Gwent is because it's my local county and it would be interesting to see the landscape of crime in my area!\n",
    "\n",
    "The notebook will be divided into 3 main sections all of which revolve around using the data provided by the Police. The first section covers importing the data and cleaning it to be usable, thankfully the curators at the Police are good at their job and have left minimal cleaning for me to do.\n",
    "\n",
    "The second section involves exploring the data with no *a priori* and answering a set of questions that will be outlined in the relevant section.\n",
    "\n",
    "Finally I will take a look at seeing if a model can be built to classify a crime based on information given."
   ]
  },
  {
   "cell_type": "code",
   "execution_count": 1,
   "metadata": {
    "collapsed": true
   },
   "outputs": [],
   "source": [
    "%matplotlib inline\n",
    "\n",
    "import pandas as pd\n",
    "import matplotlib.pyplot as plt\n",
    "\n",
    "csv_file = pd.read_csv(\"./Data/merged.csv\")"
   ]
  },
  {
   "cell_type": "code",
   "execution_count": 2,
   "metadata": {
    "collapsed": false
   },
   "outputs": [],
   "source": [
    "csv_file = csv_file.loc[pd.notnull(csv_file['Crime ID'])]\n",
    "\n",
    "csv_file.drop(\"Context\",1, inplace=True)\n",
    "csv_file.drop_duplicates(subset=\"Crime ID\", inplace=True)\n",
    "csv_file.drop(csv_file.index[0], inplace=True)"
   ]
  },
  {
   "cell_type": "code",
   "execution_count": 3,
   "metadata": {
    "collapsed": false
   },
   "outputs": [
    {
     "data": {
      "text/html": [
       "<div>\n",
       "<table border=\"1\" class=\"dataframe\">\n",
       "  <thead>\n",
       "    <tr style=\"text-align: right;\">\n",
       "      <th></th>\n",
       "      <th>Crime ID</th>\n",
       "      <th>Month</th>\n",
       "      <th>Reported by</th>\n",
       "      <th>Falls within</th>\n",
       "      <th>Longitude</th>\n",
       "      <th>Latitude</th>\n",
       "      <th>Location</th>\n",
       "      <th>LSOA code</th>\n",
       "      <th>LSOA name</th>\n",
       "      <th>Crime type</th>\n",
       "      <th>Last outcome category</th>\n",
       "    </tr>\n",
       "  </thead>\n",
       "  <tbody>\n",
       "    <tr>\n",
       "      <th>count</th>\n",
       "      <td>149802</td>\n",
       "      <td>149802</td>\n",
       "      <td>149802</td>\n",
       "      <td>149802</td>\n",
       "      <td>146348</td>\n",
       "      <td>146348</td>\n",
       "      <td>149802</td>\n",
       "      <td>146345</td>\n",
       "      <td>146345</td>\n",
       "      <td>149802</td>\n",
       "      <td>144625</td>\n",
       "    </tr>\n",
       "    <tr>\n",
       "      <th>unique</th>\n",
       "      <td>149802</td>\n",
       "      <td>53</td>\n",
       "      <td>1</td>\n",
       "      <td>1</td>\n",
       "      <td>8431</td>\n",
       "      <td>8332</td>\n",
       "      <td>5924</td>\n",
       "      <td>811</td>\n",
       "      <td>811</td>\n",
       "      <td>15</td>\n",
       "      <td>22</td>\n",
       "    </tr>\n",
       "    <tr>\n",
       "      <th>top</th>\n",
       "      <td>85a67cbe3a43ada8a46f7e97133dcdc61cc2748d3ec9d0...</td>\n",
       "      <td>2015-07</td>\n",
       "      <td>Gwent Police</td>\n",
       "      <td>Gwent Police</td>\n",
       "      <td>-2.987372</td>\n",
       "      <td>51.581786</td>\n",
       "      <td>On or near Supermarket</td>\n",
       "      <td>W01001687</td>\n",
       "      <td>Newport 014D</td>\n",
       "      <td>Criminal damage and arson</td>\n",
       "      <td>Investigation complete; no suspect identified</td>\n",
       "    </tr>\n",
       "    <tr>\n",
       "      <th>freq</th>\n",
       "      <td>1</td>\n",
       "      <td>3560</td>\n",
       "      <td>149802</td>\n",
       "      <td>149802</td>\n",
       "      <td>513</td>\n",
       "      <td>513</td>\n",
       "      <td>5980</td>\n",
       "      <td>5035</td>\n",
       "      <td>5035</td>\n",
       "      <td>29513</td>\n",
       "      <td>73688</td>\n",
       "    </tr>\n",
       "  </tbody>\n",
       "</table>\n",
       "</div>"
      ],
      "text/plain": [
       "                                                 Crime ID    Month  \\\n",
       "count                                              149802   149802   \n",
       "unique                                             149802       53   \n",
       "top     85a67cbe3a43ada8a46f7e97133dcdc61cc2748d3ec9d0...  2015-07   \n",
       "freq                                                    1     3560   \n",
       "\n",
       "         Reported by  Falls within  Longitude   Latitude  \\\n",
       "count         149802        149802     146348     146348   \n",
       "unique             1             1       8431       8332   \n",
       "top     Gwent Police  Gwent Police  -2.987372  51.581786   \n",
       "freq          149802        149802        513        513   \n",
       "\n",
       "                      Location  LSOA code     LSOA name  \\\n",
       "count                   149802     146345        146345   \n",
       "unique                    5924        811           811   \n",
       "top     On or near Supermarket  W01001687  Newport 014D   \n",
       "freq                      5980       5035          5035   \n",
       "\n",
       "                       Crime type  \\\n",
       "count                      149802   \n",
       "unique                         15   \n",
       "top     Criminal damage and arson   \n",
       "freq                        29513   \n",
       "\n",
       "                                Last outcome category  \n",
       "count                                          144625  \n",
       "unique                                             22  \n",
       "top     Investigation complete; no suspect identified  \n",
       "freq                                            73688  "
      ]
     },
     "execution_count": 3,
     "metadata": {},
     "output_type": "execute_result"
    }
   ],
   "source": [
    "csv_file.describe()"
   ]
  },
  {
   "cell_type": "code",
   "execution_count": 8,
   "metadata": {
    "collapsed": false
   },
   "outputs": [
    {
     "data": {
      "text/plain": [
       "<matplotlib.collections.PathCollection at 0x112788208>"
      ]
     },
     "execution_count": 8,
     "metadata": {},
     "output_type": "execute_result"
    },
    {
     "data": {
      "image/png": "[encoded data removed]",
      "text/plain": [
       "<matplotlib.figure.Figure at 0x113748320>"
      ]
     },
     "metadata": {},
     "output_type": "display_data"
    }
   ],
   "source": [
    "csv_file.Longitude = csv_file.Longitude.astype(float)\n",
    "csv_file.Latitude = csv_file.Latitude.astype(float)\n",
    "\n",
    "plt.scatter(csv_file.Longitude, csv_file.Latitude)"
   ]
  },
  {
   "cell_type": "markdown",
   "metadata": {
    "collapsed": true
   },
   "source": [
    "Not a great deal of clustering going on here with the long lat coordinates"
   ]
  }
 ],
 "metadata": {
  "kernelspec": {
   "display_name": "Python 3",
   "language": "python",
   "name": "python3"
  },
  "language_info": {
   "codemirror_mode": {
    "name": "ipython",
    "version": 3
   },
   "file_extension": ".py",
   "mimetype": "text/x-python",
   "name": "python",
   "nbconvert_exporter": "python",
   "pygments_lexer": "ipython3",
   "version": "3.5.1"
  }
 },
 "nbformat": 4,
 "nbformat_minor": 0
}
