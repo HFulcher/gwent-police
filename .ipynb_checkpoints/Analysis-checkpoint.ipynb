{
 "cells": [
  {
   "cell_type": "markdown",
   "metadata": {},
   "source": [
    "# Analysis of Gwent Police data 2010 - 2016 by [Huw Fulcher](http://huwfulcher.com)\n",
    "## Table of Contents\n",
    "\n",
    "1. [Introduction](#introduction)\n",
    "2. [Cleaning the data](#cleaning)\n",
    "3. [Exploring the data](#exploring)\n",
    "4. [Building a model](#building)\n",
    "5. [Conclusion](#conclusion)\n",
    "\n",
    "## <a name=\"introduction\">Introduction</a>\n",
    "The [UK Police](police.uk) have made [publically accessible data](https://data.police.uk) relating to crime in England, Wales and Northern Ireland in the form of street-level crime and outcome records for each month. The specific data I will be working with is all data collected on the Gwent Police force between 2010 and 2016 (2010 is the oldest data available openly), the reason for chosing Gwent is because it's my local county and it would be interesting to see the landscape of crime in my area!\n",
    "\n",
    "The notebook will be divided into 3 main sections all of which revolve around using the data provided by the Police. The first section covers importing the data and cleaning it to be usable, thankfully the curators at the Police are good at their job and have left minimal cleaning for me to do.\n",
    "\n",
    "The second section involves exploring the data with no *a priori* and answering a set of questions that will be outlined in the relevant section.\n",
    "\n",
    "Finally I will take a look at seeing if a model can be built to classify a crime based on information given."
   ]
  },
  {
   "cell_type": "markdown",
   "metadata": {},
   "source": [
    "# <a name=\"cleaning\">Cleaning the data</a>\n",
    "## Importing \n",
    "\n",
    "Mentioned previously the data has been obtained from the UK Police's [open data portal](https://data.police.uk) where a collection of .csv files are provided with each .csv containing all crimes recorded for a certain month in the Gwent Police Force. The first challenge before importing the data was to merge these .csv's together, the quick and dirty way to do this was to use the command:\n",
    "\n",
    "```shell\n",
    "cat *.csv > merged.csv\n",
    "```\n",
    "\n",
    "While this merges all of the .csv files together it retains the header information of each file which will need to be removed later. Looking at the [changelog](https://data.police.uk/changelog/) of the data an issue was spotted where, *\"Gwent Police: An excessive number of crimes have been snapped to Lon Uwchmynydd for January 2015. We are working with the force to establish the cause and resolve this.\"*, this is a continuing issue and has resulted in leaving out the January 2015 as it could skew analysis and models.\n",
    "\n",
    "The newly merged .csv file is then imported into the notebook using the pandas library."
   ]
  },
  {
   "cell_type": "code",
   "execution_count": 7,
   "metadata": {
    "collapsed": true
   },
   "outputs": [],
   "source": [
    "%matplotlib inline\n",
    "\n",
    "import pandas as pd\n",
    "import matplotlib.pyplot as plt\n",
    "\n",
    "csv_file = pd.read_csv(\"./Data/merged.csv\")"
   ]
  },
  {
   "cell_type": "markdown",
   "metadata": {},
   "source": [
    "## Surveying the data\n",
    "\n",
    "The first thing to do with any dataset is to get a quick overview of the data, this is done in this instance by using the .describe() command in pandas.\n",
    "\n",
    "Moving from left to right along the columns we can see a number of issues already. The first is that there is a difference between overall and unique Crime ID's, this could be down to either crimes without an ID or duplicates.\n",
    "\n",
    "Secondly the attributes *Reported by* and *Falls within* both have two unique values when in reality they should only have one (Gwent Police), without looking at the data first I would say that the issue here is the duplicate headers that are still in the data.\n",
    "\n",
    "Thirdly, *Context* has only 64 values each of which is the word \"Context\", this is once again because of the duplicate headers from each separate .csv file but this can be rectified easily by removing the Context column as it provides no information to use."
   ]
  },
  {
   "cell_type": "code",
   "execution_count": 8,
   "metadata": {
    "collapsed": false
   },
   "outputs": [
    {
     "data": {
      "text/html": [
       "<div>\n",
       "<table border=\"1\" class=\"dataframe\">\n",
       "  <thead>\n",
       "    <tr style=\"text-align: right;\">\n",
       "      <th></th>\n",
       "      <th>Crime ID</th>\n",
       "      <th>Month</th>\n",
       "      <th>Reported by</th>\n",
       "      <th>Falls within</th>\n",
       "      <th>Longitude</th>\n",
       "      <th>Latitude</th>\n",
       "      <th>Location</th>\n",
       "      <th>LSOA code</th>\n",
       "      <th>LSOA name</th>\n",
       "      <th>Crime type</th>\n",
       "      <th>Last outcome category</th>\n",
       "      <th>Context</th>\n",
       "    </tr>\n",
       "  </thead>\n",
       "  <tbody>\n",
       "    <tr>\n",
       "      <th>count</th>\n",
       "      <td>148476</td>\n",
       "      <td>337403</td>\n",
       "      <td>337403</td>\n",
       "      <td>337403</td>\n",
       "      <td>331841</td>\n",
       "      <td>331841</td>\n",
       "      <td>337403</td>\n",
       "      <td>331821</td>\n",
       "      <td>331821</td>\n",
       "      <td>337403</td>\n",
       "      <td>143299</td>\n",
       "      <td>64</td>\n",
       "    </tr>\n",
       "    <tr>\n",
       "      <th>unique</th>\n",
       "      <td>147581</td>\n",
       "      <td>66</td>\n",
       "      <td>2</td>\n",
       "      <td>2</td>\n",
       "      <td>8773</td>\n",
       "      <td>8669</td>\n",
       "      <td>6458</td>\n",
       "      <td>817</td>\n",
       "      <td>817</td>\n",
       "      <td>17</td>\n",
       "      <td>23</td>\n",
       "      <td>1</td>\n",
       "    </tr>\n",
       "    <tr>\n",
       "      <th>top</th>\n",
       "      <td>Crime ID</td>\n",
       "      <td>2011-07</td>\n",
       "      <td>Gwent Police</td>\n",
       "      <td>Gwent Police</td>\n",
       "      <td>-3.002860</td>\n",
       "      <td>51.652662</td>\n",
       "      <td>On or near Parking Area</td>\n",
       "      <td>W01001687</td>\n",
       "      <td>Newport 014D</td>\n",
       "      <td>Anti-social behaviour</td>\n",
       "      <td>Investigation complete; no suspect identified</td>\n",
       "      <td>Context</td>\n",
       "    </tr>\n",
       "    <tr>\n",
       "      <th>freq</th>\n",
       "      <td>64</td>\n",
       "      <td>7697</td>\n",
       "      <td>337339</td>\n",
       "      <td>337339</td>\n",
       "      <td>2141</td>\n",
       "      <td>2141</td>\n",
       "      <td>10967</td>\n",
       "      <td>9625</td>\n",
       "      <td>9625</td>\n",
       "      <td>151656</td>\n",
       "      <td>72830</td>\n",
       "      <td>64</td>\n",
       "    </tr>\n",
       "  </tbody>\n",
       "</table>\n",
       "</div>"
      ],
      "text/plain": [
       "        Crime ID    Month   Reported by  Falls within  Longitude   Latitude  \\\n",
       "count     148476   337403        337403        337403     331841     331841   \n",
       "unique    147581       66             2             2       8773       8669   \n",
       "top     Crime ID  2011-07  Gwent Police  Gwent Police  -3.002860  51.652662   \n",
       "freq          64     7697        337339        337339       2141       2141   \n",
       "\n",
       "                       Location  LSOA code     LSOA name  \\\n",
       "count                    337403     331821        331821   \n",
       "unique                     6458        817           817   \n",
       "top     On or near Parking Area  W01001687  Newport 014D   \n",
       "freq                      10967       9625          9625   \n",
       "\n",
       "                   Crime type                          Last outcome category  \\\n",
       "count                  337403                                         143299   \n",
       "unique                     17                                             23   \n",
       "top     Anti-social behaviour  Investigation complete; no suspect identified   \n",
       "freq                   151656                                          72830   \n",
       "\n",
       "        Context  \n",
       "count        64  \n",
       "unique        1  \n",
       "top     Context  \n",
       "freq         64  "
      ]
     },
     "execution_count": 8,
     "metadata": {},
     "output_type": "execute_result"
    }
   ],
   "source": [
    "csv_file.describe()"
   ]
  },
  {
   "cell_type": "markdown",
   "metadata": {},
   "source": [
    "## Fixing *Crime ID*\n",
    "\n",
    "Mentioned above, there is a disparity between the count of Crime ID's and the number of unique Crime ID's. This is an issue as the ID should be unique to identify each crime. Taking a quick peak we can see that the first 5 records in the dataset have no ID, depending on the number of crimes with a missing ID this could be a large issue."
   ]
  },
  {
   "cell_type": "code",
   "execution_count": 9,
   "metadata": {
    "collapsed": false
   },
   "outputs": [
    {
     "data": {
      "text/html": [
       "<div>\n",
       "<table border=\"1\" class=\"dataframe\">\n",
       "  <thead>\n",
       "    <tr style=\"text-align: right;\">\n",
       "      <th></th>\n",
       "      <th>Crime ID</th>\n",
       "      <th>Month</th>\n",
       "      <th>Reported by</th>\n",
       "      <th>Falls within</th>\n",
       "      <th>Longitude</th>\n",
       "      <th>Latitude</th>\n",
       "      <th>Location</th>\n",
       "      <th>LSOA code</th>\n",
       "      <th>LSOA name</th>\n",
       "      <th>Crime type</th>\n",
       "      <th>Last outcome category</th>\n",
       "      <th>Context</th>\n",
       "    </tr>\n",
       "  </thead>\n",
       "  <tbody>\n",
       "    <tr>\n",
       "      <th>0</th>\n",
       "      <td>NaN</td>\n",
       "      <td>2010-12</td>\n",
       "      <td>Gwent Police</td>\n",
       "      <td>Gwent Police</td>\n",
       "      <td>-3.193984</td>\n",
       "      <td>51.798192</td>\n",
       "      <td>On or near Pantyglan</td>\n",
       "      <td>W01001440</td>\n",
       "      <td>Blaenau Gwent 001A</td>\n",
       "      <td>Anti-social behaviour</td>\n",
       "      <td>NaN</td>\n",
       "      <td>NaN</td>\n",
       "    </tr>\n",
       "    <tr>\n",
       "      <th>1</th>\n",
       "      <td>NaN</td>\n",
       "      <td>2010-12</td>\n",
       "      <td>Gwent Police</td>\n",
       "      <td>Gwent Police</td>\n",
       "      <td>-3.197188</td>\n",
       "      <td>51.794859</td>\n",
       "      <td>On or near Heol Gwyn Lliw</td>\n",
       "      <td>W01001440</td>\n",
       "      <td>Blaenau Gwent 001A</td>\n",
       "      <td>Anti-social behaviour</td>\n",
       "      <td>NaN</td>\n",
       "      <td>NaN</td>\n",
       "    </tr>\n",
       "    <tr>\n",
       "      <th>2</th>\n",
       "      <td>NaN</td>\n",
       "      <td>2010-12</td>\n",
       "      <td>Gwent Police</td>\n",
       "      <td>Gwent Police</td>\n",
       "      <td>-3.193205</td>\n",
       "      <td>51.798910</td>\n",
       "      <td>On or near Lansbury Terrace</td>\n",
       "      <td>W01001440</td>\n",
       "      <td>Blaenau Gwent 001A</td>\n",
       "      <td>Anti-social behaviour</td>\n",
       "      <td>NaN</td>\n",
       "      <td>NaN</td>\n",
       "    </tr>\n",
       "    <tr>\n",
       "      <th>3</th>\n",
       "      <td>NaN</td>\n",
       "      <td>2010-12</td>\n",
       "      <td>Gwent Police</td>\n",
       "      <td>Gwent Police</td>\n",
       "      <td>-3.198348</td>\n",
       "      <td>51.795432</td>\n",
       "      <td>On or near Canterbury Road</td>\n",
       "      <td>W01001440</td>\n",
       "      <td>Blaenau Gwent 001A</td>\n",
       "      <td>Anti-social behaviour</td>\n",
       "      <td>NaN</td>\n",
       "      <td>NaN</td>\n",
       "    </tr>\n",
       "    <tr>\n",
       "      <th>4</th>\n",
       "      <td>NaN</td>\n",
       "      <td>2010-12</td>\n",
       "      <td>Gwent Police</td>\n",
       "      <td>Gwent Police</td>\n",
       "      <td>-3.197188</td>\n",
       "      <td>51.794859</td>\n",
       "      <td>On or near Heol Gwyn Lliw</td>\n",
       "      <td>W01001440</td>\n",
       "      <td>Blaenau Gwent 001A</td>\n",
       "      <td>Vehicle crime</td>\n",
       "      <td>NaN</td>\n",
       "      <td>NaN</td>\n",
       "    </tr>\n",
       "  </tbody>\n",
       "</table>\n",
       "</div>"
      ],
      "text/plain": [
       "  Crime ID    Month   Reported by  Falls within  Longitude   Latitude  \\\n",
       "0      NaN  2010-12  Gwent Police  Gwent Police  -3.193984  51.798192   \n",
       "1      NaN  2010-12  Gwent Police  Gwent Police  -3.197188  51.794859   \n",
       "2      NaN  2010-12  Gwent Police  Gwent Police  -3.193205  51.798910   \n",
       "3      NaN  2010-12  Gwent Police  Gwent Police  -3.198348  51.795432   \n",
       "4      NaN  2010-12  Gwent Police  Gwent Police  -3.197188  51.794859   \n",
       "\n",
       "                      Location  LSOA code           LSOA name  \\\n",
       "0         On or near Pantyglan  W01001440  Blaenau Gwent 001A   \n",
       "1    On or near Heol Gwyn Lliw  W01001440  Blaenau Gwent 001A   \n",
       "2  On or near Lansbury Terrace  W01001440  Blaenau Gwent 001A   \n",
       "3   On or near Canterbury Road  W01001440  Blaenau Gwent 001A   \n",
       "4    On or near Heol Gwyn Lliw  W01001440  Blaenau Gwent 001A   \n",
       "\n",
       "              Crime type Last outcome category Context  \n",
       "0  Anti-social behaviour                   NaN     NaN  \n",
       "1  Anti-social behaviour                   NaN     NaN  \n",
       "2  Anti-social behaviour                   NaN     NaN  \n",
       "3  Anti-social behaviour                   NaN     NaN  \n",
       "4          Vehicle crime                   NaN     NaN  "
      ]
     },
     "execution_count": 9,
     "metadata": {},
     "output_type": "execute_result"
    }
   ],
   "source": [
    "csv_file.head()"
   ]
  },
  {
   "cell_type": "markdown",
   "metadata": {
    "collapsed": false
   },
   "source": [
    "So we have 188927 empty Crime ID's, that's over half of the crime records having a missing ID! This could be an issue and a better way to index the data may be to use an arbitrary index but retain this Crime ID data in case it is useful later on. One thing we can deal with is duplicate ID's! The code below removes duplicates based on ID and doesn't remove NaN ID's."
   ]
  },
  {
   "cell_type": "code",
   "execution_count": 10,
   "metadata": {
    "collapsed": false
   },
   "outputs": [
    {
     "name": "stdout",
     "output_type": "stream",
     "text": [
      "188927\n"
     ]
    },
    {
     "data": {
      "text/html": [
       "<div>\n",
       "<table border=\"1\" class=\"dataframe\">\n",
       "  <thead>\n",
       "    <tr style=\"text-align: right;\">\n",
       "      <th></th>\n",
       "      <th>Crime ID</th>\n",
       "      <th>Month</th>\n",
       "      <th>Reported by</th>\n",
       "      <th>Falls within</th>\n",
       "      <th>Longitude</th>\n",
       "      <th>Latitude</th>\n",
       "      <th>Location</th>\n",
       "      <th>LSOA code</th>\n",
       "      <th>LSOA name</th>\n",
       "      <th>Crime type</th>\n",
       "      <th>Last outcome category</th>\n",
       "      <th>Context</th>\n",
       "    </tr>\n",
       "  </thead>\n",
       "  <tbody>\n",
       "    <tr>\n",
       "      <th>count</th>\n",
       "      <td>147581</td>\n",
       "      <td>336508</td>\n",
       "      <td>336508</td>\n",
       "      <td>336508</td>\n",
       "      <td>330953</td>\n",
       "      <td>330953</td>\n",
       "      <td>336508</td>\n",
       "      <td>330933</td>\n",
       "      <td>330933</td>\n",
       "      <td>336508</td>\n",
       "      <td>142404</td>\n",
       "      <td>1</td>\n",
       "    </tr>\n",
       "    <tr>\n",
       "      <th>unique</th>\n",
       "      <td>147581</td>\n",
       "      <td>66</td>\n",
       "      <td>2</td>\n",
       "      <td>2</td>\n",
       "      <td>8773</td>\n",
       "      <td>8669</td>\n",
       "      <td>6458</td>\n",
       "      <td>817</td>\n",
       "      <td>817</td>\n",
       "      <td>17</td>\n",
       "      <td>23</td>\n",
       "      <td>1</td>\n",
       "    </tr>\n",
       "    <tr>\n",
       "      <th>top</th>\n",
       "      <td>47234e2f76af17cc7b4fb76673bd0bbc0df988acbc25bb...</td>\n",
       "      <td>2011-07</td>\n",
       "      <td>Gwent Police</td>\n",
       "      <td>Gwent Police</td>\n",
       "      <td>-3.002860</td>\n",
       "      <td>51.652662</td>\n",
       "      <td>On or near Parking Area</td>\n",
       "      <td>W01001687</td>\n",
       "      <td>Newport 014D</td>\n",
       "      <td>Anti-social behaviour</td>\n",
       "      <td>Investigation complete; no suspect identified</td>\n",
       "      <td>Context</td>\n",
       "    </tr>\n",
       "    <tr>\n",
       "      <th>freq</th>\n",
       "      <td>1</td>\n",
       "      <td>7697</td>\n",
       "      <td>336507</td>\n",
       "      <td>336507</td>\n",
       "      <td>2141</td>\n",
       "      <td>2141</td>\n",
       "      <td>10929</td>\n",
       "      <td>9591</td>\n",
       "      <td>9591</td>\n",
       "      <td>151656</td>\n",
       "      <td>72638</td>\n",
       "      <td>1</td>\n",
       "    </tr>\n",
       "  </tbody>\n",
       "</table>\n",
       "</div>"
      ],
      "text/plain": [
       "                                                 Crime ID    Month  \\\n",
       "count                                              147581   336508   \n",
       "unique                                             147581       66   \n",
       "top     47234e2f76af17cc7b4fb76673bd0bbc0df988acbc25bb...  2011-07   \n",
       "freq                                                    1     7697   \n",
       "\n",
       "         Reported by  Falls within  Longitude   Latitude  \\\n",
       "count         336508        336508     330953     330953   \n",
       "unique             2             2       8773       8669   \n",
       "top     Gwent Police  Gwent Police  -3.002860  51.652662   \n",
       "freq          336507        336507       2141       2141   \n",
       "\n",
       "                       Location  LSOA code     LSOA name  \\\n",
       "count                    336508     330933        330933   \n",
       "unique                     6458        817           817   \n",
       "top     On or near Parking Area  W01001687  Newport 014D   \n",
       "freq                      10929       9591          9591   \n",
       "\n",
       "                   Crime type                          Last outcome category  \\\n",
       "count                  336508                                         142404   \n",
       "unique                     17                                             23   \n",
       "top     Anti-social behaviour  Investigation complete; no suspect identified   \n",
       "freq                   151656                                          72638   \n",
       "\n",
       "        Context  \n",
       "count         1  \n",
       "unique        1  \n",
       "top     Context  \n",
       "freq          1  "
      ]
     },
     "execution_count": 10,
     "metadata": {},
     "output_type": "execute_result"
    }
   ],
   "source": [
    "print(len(csv_file[\"Crime ID\"]) - csv_file[\"Crime ID\"].count())\n",
    "\n",
    "csv_file = csv_file[(~csv_file[\"Crime ID\"].duplicated()) | (csv_file[\"Crime ID\"].isnull())]\n",
    "csv_file.describe()"
   ]
  },
  {
   "cell_type": "markdown",
   "metadata": {
    "collapsed": true
   },
   "source": [
    "## Fixing *Reported by* and *Falls within*\n",
    "\n",
    "Another issue faced in the dataset is the two unqiue values found in *Reported by* and *Falls within* where there should be only one unique value (Gwent Police). Looking at the unique values below we can see that the speculation about the csv file headers is confirmed with the headers of files still hanging around. There is only one instance of the header names still remaining so it should be a simple case of dropping records containing the header names."
   ]
  },
  {
   "cell_type": "code",
   "execution_count": 11,
   "metadata": {
    "collapsed": false
   },
   "outputs": [
    {
     "name": "stdout",
     "output_type": "stream",
     "text": [
      "Gwent Police    336507\n",
      "Reported by          1\n",
      "Name: Reported by, dtype: int64\n",
      "Gwent Police    336507\n",
      "Falls within         1\n",
      "Name: Falls within, dtype: int64\n"
     ]
    },
    {
     "data": {
      "text/html": [
       "<div>\n",
       "<table border=\"1\" class=\"dataframe\">\n",
       "  <thead>\n",
       "    <tr style=\"text-align: right;\">\n",
       "      <th></th>\n",
       "      <th>Crime ID</th>\n",
       "      <th>Month</th>\n",
       "      <th>Reported by</th>\n",
       "      <th>Falls within</th>\n",
       "      <th>Longitude</th>\n",
       "      <th>Latitude</th>\n",
       "      <th>Location</th>\n",
       "      <th>LSOA code</th>\n",
       "      <th>LSOA name</th>\n",
       "      <th>Crime type</th>\n",
       "      <th>Last outcome category</th>\n",
       "      <th>Context</th>\n",
       "    </tr>\n",
       "  </thead>\n",
       "  <tbody>\n",
       "    <tr>\n",
       "      <th>count</th>\n",
       "      <td>147580</td>\n",
       "      <td>336507</td>\n",
       "      <td>336507</td>\n",
       "      <td>336507</td>\n",
       "      <td>330952</td>\n",
       "      <td>330952</td>\n",
       "      <td>336507</td>\n",
       "      <td>330932</td>\n",
       "      <td>330932</td>\n",
       "      <td>336507</td>\n",
       "      <td>142403</td>\n",
       "      <td>0.0</td>\n",
       "    </tr>\n",
       "    <tr>\n",
       "      <th>unique</th>\n",
       "      <td>147580</td>\n",
       "      <td>65</td>\n",
       "      <td>1</td>\n",
       "      <td>1</td>\n",
       "      <td>8772</td>\n",
       "      <td>8668</td>\n",
       "      <td>6457</td>\n",
       "      <td>816</td>\n",
       "      <td>816</td>\n",
       "      <td>16</td>\n",
       "      <td>22</td>\n",
       "      <td>0.0</td>\n",
       "    </tr>\n",
       "    <tr>\n",
       "      <th>top</th>\n",
       "      <td>47234e2f76af17cc7b4fb76673bd0bbc0df988acbc25bb...</td>\n",
       "      <td>2011-07</td>\n",
       "      <td>Gwent Police</td>\n",
       "      <td>Gwent Police</td>\n",
       "      <td>-3.002860</td>\n",
       "      <td>51.652662</td>\n",
       "      <td>On or near Parking Area</td>\n",
       "      <td>W01001687</td>\n",
       "      <td>Newport 014D</td>\n",
       "      <td>Anti-social behaviour</td>\n",
       "      <td>Investigation complete; no suspect identified</td>\n",
       "      <td>NaN</td>\n",
       "    </tr>\n",
       "    <tr>\n",
       "      <th>freq</th>\n",
       "      <td>1</td>\n",
       "      <td>7697</td>\n",
       "      <td>336507</td>\n",
       "      <td>336507</td>\n",
       "      <td>2141</td>\n",
       "      <td>2141</td>\n",
       "      <td>10929</td>\n",
       "      <td>9591</td>\n",
       "      <td>9591</td>\n",
       "      <td>151656</td>\n",
       "      <td>72638</td>\n",
       "      <td>NaN</td>\n",
       "    </tr>\n",
       "  </tbody>\n",
       "</table>\n",
       "</div>"
      ],
      "text/plain": [
       "                                                 Crime ID    Month  \\\n",
       "count                                              147580   336507   \n",
       "unique                                             147580       65   \n",
       "top     47234e2f76af17cc7b4fb76673bd0bbc0df988acbc25bb...  2011-07   \n",
       "freq                                                    1     7697   \n",
       "\n",
       "         Reported by  Falls within  Longitude   Latitude  \\\n",
       "count         336507        336507     330952     330952   \n",
       "unique             1             1       8772       8668   \n",
       "top     Gwent Police  Gwent Police  -3.002860  51.652662   \n",
       "freq          336507        336507       2141       2141   \n",
       "\n",
       "                       Location  LSOA code     LSOA name  \\\n",
       "count                    336507     330932        330932   \n",
       "unique                     6457        816           816   \n",
       "top     On or near Parking Area  W01001687  Newport 014D   \n",
       "freq                      10929       9591          9591   \n",
       "\n",
       "                   Crime type                          Last outcome category  \\\n",
       "count                  336507                                         142403   \n",
       "unique                     16                                             22   \n",
       "top     Anti-social behaviour  Investigation complete; no suspect identified   \n",
       "freq                   151656                                          72638   \n",
       "\n",
       "        Context  \n",
       "count       0.0  \n",
       "unique      0.0  \n",
       "top         NaN  \n",
       "freq        NaN  "
      ]
     },
     "execution_count": 11,
     "metadata": {},
     "output_type": "execute_result"
    }
   ],
   "source": [
    "print(csv_file[\"Reported by\"].value_counts())\n",
    "print(csv_file[\"Falls within\"].value_counts())\n",
    "\n",
    "csv_file = csv_file[csv_file[\"Reported by\"] != \"Reported by\"]\n",
    "csv_file = csv_file[csv_file[\"Falls within\"] != \"Falls within\"]\n",
    "\n",
    "csv_file.describe()"
   ]
  },
  {
   "cell_type": "markdown",
   "metadata": {},
   "source": [
    "## Removing *Context*\n",
    "\n",
    "Finally the *Context* column needs to be removed as it provides absolutely no information (I wonder why it was included in the first place?)."
   ]
  },
  {
   "cell_type": "code",
   "execution_count": 12,
   "metadata": {
    "collapsed": false
   },
   "outputs": [
    {
     "data": {
      "text/html": [
       "<div>\n",
       "<table border=\"1\" class=\"dataframe\">\n",
       "  <thead>\n",
       "    <tr style=\"text-align: right;\">\n",
       "      <th></th>\n",
       "      <th>Crime ID</th>\n",
       "      <th>Month</th>\n",
       "      <th>Reported by</th>\n",
       "      <th>Falls within</th>\n",
       "      <th>Longitude</th>\n",
       "      <th>Latitude</th>\n",
       "      <th>Location</th>\n",
       "      <th>LSOA code</th>\n",
       "      <th>LSOA name</th>\n",
       "      <th>Crime type</th>\n",
       "      <th>Last outcome category</th>\n",
       "    </tr>\n",
       "  </thead>\n",
       "  <tbody>\n",
       "    <tr>\n",
       "      <th>count</th>\n",
       "      <td>147580</td>\n",
       "      <td>336507</td>\n",
       "      <td>336507</td>\n",
       "      <td>336507</td>\n",
       "      <td>330952</td>\n",
       "      <td>330952</td>\n",
       "      <td>336507</td>\n",
       "      <td>330932</td>\n",
       "      <td>330932</td>\n",
       "      <td>336507</td>\n",
       "      <td>142403</td>\n",
       "    </tr>\n",
       "    <tr>\n",
       "      <th>unique</th>\n",
       "      <td>147580</td>\n",
       "      <td>65</td>\n",
       "      <td>1</td>\n",
       "      <td>1</td>\n",
       "      <td>8772</td>\n",
       "      <td>8668</td>\n",
       "      <td>6457</td>\n",
       "      <td>816</td>\n",
       "      <td>816</td>\n",
       "      <td>16</td>\n",
       "      <td>22</td>\n",
       "    </tr>\n",
       "    <tr>\n",
       "      <th>top</th>\n",
       "      <td>47234e2f76af17cc7b4fb76673bd0bbc0df988acbc25bb...</td>\n",
       "      <td>2011-07</td>\n",
       "      <td>Gwent Police</td>\n",
       "      <td>Gwent Police</td>\n",
       "      <td>-3.002860</td>\n",
       "      <td>51.652662</td>\n",
       "      <td>On or near Parking Area</td>\n",
       "      <td>W01001687</td>\n",
       "      <td>Newport 014D</td>\n",
       "      <td>Anti-social behaviour</td>\n",
       "      <td>Investigation complete; no suspect identified</td>\n",
       "    </tr>\n",
       "    <tr>\n",
       "      <th>freq</th>\n",
       "      <td>1</td>\n",
       "      <td>7697</td>\n",
       "      <td>336507</td>\n",
       "      <td>336507</td>\n",
       "      <td>2141</td>\n",
       "      <td>2141</td>\n",
       "      <td>10929</td>\n",
       "      <td>9591</td>\n",
       "      <td>9591</td>\n",
       "      <td>151656</td>\n",
       "      <td>72638</td>\n",
       "    </tr>\n",
       "  </tbody>\n",
       "</table>\n",
       "</div>"
      ],
      "text/plain": [
       "                                                 Crime ID    Month  \\\n",
       "count                                              147580   336507   \n",
       "unique                                             147580       65   \n",
       "top     47234e2f76af17cc7b4fb76673bd0bbc0df988acbc25bb...  2011-07   \n",
       "freq                                                    1     7697   \n",
       "\n",
       "         Reported by  Falls within  Longitude   Latitude  \\\n",
       "count         336507        336507     330952     330952   \n",
       "unique             1             1       8772       8668   \n",
       "top     Gwent Police  Gwent Police  -3.002860  51.652662   \n",
       "freq          336507        336507       2141       2141   \n",
       "\n",
       "                       Location  LSOA code     LSOA name  \\\n",
       "count                    336507     330932        330932   \n",
       "unique                     6457        816           816   \n",
       "top     On or near Parking Area  W01001687  Newport 014D   \n",
       "freq                      10929       9591          9591   \n",
       "\n",
       "                   Crime type                          Last outcome category  \n",
       "count                  336507                                         142403  \n",
       "unique                     16                                             22  \n",
       "top     Anti-social behaviour  Investigation complete; no suspect identified  \n",
       "freq                   151656                                          72638  "
      ]
     },
     "execution_count": 12,
     "metadata": {},
     "output_type": "execute_result"
    }
   ],
   "source": [
    "csv_file.drop(\"Context\", 1, inplace=True)\n",
    "csv_file.describe()"
   ]
  },
  {
   "cell_type": "markdown",
   "metadata": {},
   "source": [
    "Now the data has been cleaned work can begin on analysing the data given!"
   ]
  },
  {
   "cell_type": "markdown",
   "metadata": {},
   "source": [
    "# <a name=\"exploring\">Exploring the data</a>\n",
    "\n",
    "To provide a more structured exploration of the data I have laid out a number of questions to be answered and visualised to get to grips with the data more. Logically, these questions begin as being quite simple moving onto more complex ones.\n",
    "\n",
    "1. [What are the most common crimes?](#common-crimes)\n",
    "2. [What areas have the highest crime rates?](#area-crimes)\n",
    "3. [Is there a geographical correlation to certain crimes?](#geographic-crimes)\n",
    "4. [Does the time of year affect crime rates?](#time-crime)\n",
    "5. [Does the type of crime affect the outcome?](#crime-outcome)"
   ]
  },
  {
   "cell_type": "markdown",
   "metadata": {},
   "source": [
    "## <a name=\"common-crimes\">1. What are the most common crimes?</a>\n"
   ]
  },
  {
   "cell_type": "code",
   "execution_count": null,
   "metadata": {
    "collapsed": true
   },
   "outputs": [],
   "source": []
  },
  {
   "cell_type": "markdown",
   "metadata": {},
   "source": [
    "## <a name=\"area-crimes\">2. What areas have the highest crime rates?</a>\n"
   ]
  },
  {
   "cell_type": "code",
   "execution_count": null,
   "metadata": {
    "collapsed": true
   },
   "outputs": [],
   "source": []
  },
  {
   "cell_type": "markdown",
   "metadata": {},
   "source": [
    "## <a name=\"geographic-crimes\">3. Is there a geographical correlation to certain crimes?</a>\n"
   ]
  },
  {
   "cell_type": "code",
   "execution_count": null,
   "metadata": {
    "collapsed": true
   },
   "outputs": [],
   "source": []
  },
  {
   "cell_type": "markdown",
   "metadata": {},
   "source": [
    "## <a name=\"time-crime\">4. Does the time of year affect crime rates?</a>\n"
   ]
  },
  {
   "cell_type": "code",
   "execution_count": null,
   "metadata": {
    "collapsed": true
   },
   "outputs": [],
   "source": []
  },
  {
   "cell_type": "markdown",
   "metadata": {},
   "source": [
    "## <a name=\"crime-outcome\">5. Does the type of crime affect the outcome?</a>"
   ]
  },
  {
   "cell_type": "code",
   "execution_count": null,
   "metadata": {
    "collapsed": true
   },
   "outputs": [],
   "source": []
  }
 ],
 "metadata": {
  "kernelspec": {
   "display_name": "Python 3",
   "language": "python",
   "name": "python3"
  },
  "language_info": {
   "codemirror_mode": {
    "name": "ipython",
    "version": 3
   },
   "file_extension": ".py",
   "mimetype": "text/x-python",
   "name": "python",
   "nbconvert_exporter": "python",
   "pygments_lexer": "ipython3",
   "version": "3.5.1"
  }
 },
 "nbformat": 4,
 "nbformat_minor": 0
}
